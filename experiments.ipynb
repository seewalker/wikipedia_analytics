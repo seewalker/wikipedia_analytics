{
 "cells": [
  {
   "cell_type": "code",
   "execution_count": null,
   "metadata": {
    "collapsed": false
   },
   "outputs": [],
   "source": [
    "from problem import * # the code that largely constitutes these experiments.\n",
    "#from bokeh.io import output_notebook\n",
    "%matplotlib inline\n",
    "#output_notebook()\n",
    "import psycopg2\n",
    "import pandas as pd\n",
    "import matplotlib.pyplot as plt\n",
    "import seaborn as sns"
   ]
  },
  {
   "cell_type": "markdown",
   "metadata": {
    "collapsed": false
   },
   "source": [
    "This statistical investigation takes a look at how people use wikipedia. Wikipedia makes available stats on how people come across wikipedia page, be it through a link from a google search or a link on another wikipedia page etc. This type of information is sometimes called a 'clickstream', and the next cell shows how this is manifested in a SQL database.  The exhuastive list of so-called 'referers' is:\n",
    "- google, called 'other-google' in the table.\n",
    "- bing, called 'other-bing' in the table\n",
    "- yahoo, called 'other-yahoo' in the table\n",
    "- wikipedia's own search feature, called 'other-wikipedia'\n",
    "- other wikipedia pages. This information is not aggregated; each page which links to the 'current' page has its own count.\n",
    "- other. \n",
    "\n",
    "The raw data for this notebook counts wikipedia traffic from February 2015. The sources of this data are hosted [on datahub](http://datahub.io/dataset/wikipedia-clickstream). The website there makes clear some of the finer points involved in the data collection, but I'll summarize the most relevant ones here:"
   ]
  },
  {
   "cell_type": "code",
   "execution_count": null,
   "metadata": {
    "collapsed": false
   },
   "outputs": [],
   "source": [
    "conn = psycopg2.connect(dbname=\"wiki\", user=\"shalom\", host=\"localhost\", password=\"\")\n",
    "pd.read_sql(\"SELECT * FROM wikithresh LIMIT 40\",conn)"
   ]
  },
  {
   "cell_type": "markdown",
   "metadata": {
    "collapsed": true
   },
   "source": [
    "This information lends itself to many sorts of statistical investigations. The type of questions I'm interested in here are \"which categories of wikipedia pages have characteristic access patterns?\" A distinct usage pattern might mean:\n",
    "\n",
    "- a noteworthy proportion of traffic from within wikipedia compared to traffic from search engines.\n",
    "- a noteworthy distribution of which search engines people \n",
    "- a correlation between some statistic of a category and that of another category\n",
    "\n",
    "Because I'm interested in proportions like this, wikipedia pages without many views would provide prohibitively much noise. For instance, there are many pages like ' ' which have only been visited via ' ', and that does not point to interesting results so much as the coincidence of a few people happening to have done ' '. The exact choice of cutoff is. This number was not decided through any interesting, rigorous way. In fact, my first inclination was to made that threshold a parameter to queries by making a tresholded SQL view. It turns out the queries here are massively sped up by storing an index on 'title', and such bookeeping requires tables which are not dynamically formed.\n",
    "\n",
    "In order to have a feel for what is 'noteworthy', it is useful to look at some basic descriptive statistics on the data we're working with:"
   ]
  },
  {
   "cell_type": "code",
   "execution_count": null,
   "metadata": {
    "collapsed": false
   },
   "outputs": [],
   "source": [
    "data_characteristics()"
   ]
  },
  {
   "cell_type": "markdown",
   "metadata": {},
   "source": [
    "Let's first examine the question 'do people use the microsoft bing search engine notably often to look at microsoft-related wikipedia pages?' I would expect so, because 1) people who use microsoft products may be most likely to be reading about microsoft products and 2) microsoft makes bing the default search engine on microsoft stuff, and many people tend not to switch away from defaults."
   ]
  },
  {
   "cell_type": "code",
   "execution_count": null,
   "metadata": {
    "collapsed": false,
    "scrolled": true
   },
   "outputs": [],
   "source": [
    "import instances.ms\n",
    "ms_problem = WikiProblem(instances.ms.inst)"
   ]
  },
  {
   "cell_type": "markdown",
   "metadata": {},
   "source": [
    "Here I'll put a description of what a violin plot is."
   ]
  },
  {
   "cell_type": "code",
   "execution_count": null,
   "metadata": {
    "collapsed": false,
    "scrolled": true
   },
   "outputs": [],
   "source": [
    "ms_problem.discovery()"
   ]
  },
  {
   "cell_type": "code",
   "execution_count": null,
   "metadata": {
    "collapsed": false
   },
   "outputs": [],
   "source": [
    "ms_problem.popularityOf()"
   ]
  },
  {
   "cell_type": "markdown",
   "metadata": {},
   "source": [
    "It seems _. "
   ]
  },
  {
   "cell_type": "markdown",
   "metadata": {},
   "source": [
    "There is a word 'clickbait' that people use to talk about provocativly titled stuff that people click on. Here, we consider the categories 'sex', 'drugs', 'danger', and 'politics' as potentially clickbait. Let's look at what the numbers say."
   ]
  },
  {
   "cell_type": "code",
   "execution_count": null,
   "metadata": {
    "collapsed": true
   },
   "outputs": [],
   "source": [
    "import instances.clickbait\n",
    "clickbait_problem = WikiProblem(instances.clickbait.inst)"
   ]
  },
  {
   "cell_type": "code",
   "execution_count": null,
   "metadata": {
    "collapsed": false
   },
   "outputs": [],
   "source": [
    "clickbait_problem.discovery()"
   ]
  },
  {
   "cell_type": "markdown",
   "metadata": {
    "collapsed": true
   },
   "source": [
    "From looking at these plots, it seems sex is clickbait. Drugs are not clickbait. Danger is not clickbait."
   ]
  },
  {
   "cell_type": "markdown",
   "metadata": {},
   "source": [
    "I sometimes find myself reading about a author/artist I'm interested in, and while I'm on that page I click on their discography or filmography or whatever out of curiosity. However, I don't remember ever searching for a list of things done by a person. I wonder whether other people have a similar usage pattern. Let's see."
   ]
  },
  {
   "cell_type": "code",
   "execution_count": null,
   "metadata": {
    "collapsed": true
   },
   "outputs": [],
   "source": [
    "import instances.hierarchical\n",
    "hierarchical_problem = WikiProblem(instances.hierarchical.inst)"
   ]
  },
  {
   "cell_type": "code",
   "execution_count": null,
   "metadata": {
    "collapsed": false
   },
   "outputs": [],
   "source": [
    "hierarchical_problem.discovery()"
   ]
  },
  {
   "cell_type": "markdown",
   "metadata": {},
   "source": [
    "I seldom see people post links to wikipedia pages on facebook or twitter. Looking at what people share via social media, or more precisely what people click on via social media, is then more of an unsupervised clustering matter than a hypothesis testing matter."
   ]
  },
  {
   "cell_type": "markdown",
   "metadata": {},
   "source": [
    "The source of this data is the work of two people, partly myself and mostly my brother. He has this to say about his methods:\n",
    "\n",
    "This means that a potentially confounding variable to the idea of inference of these categories compared to random is that these pages are pages a human thought of whereas the random pages were by definition not. What exactly a human, namely mark, thinks of may be influenced by hugely many factors, but the easiest one to test is that he thought of pages that were more popularly viewed than the average page. Let's examine that hypothesis."
   ]
  },
  {
   "cell_type": "markdown",
   "metadata": {
    "collapsed": false
   },
   "source": [
    "Another potential source of bias is in parts of speech. Because it is easy to make samples, here we go..."
   ]
  },
  {
   "cell_type": "code",
   "execution_count": null,
   "metadata": {
    "collapsed": false
   },
   "outputs": [],
   "source": [
    "import instances.nountype\n",
    "nountype_problem = WikiProblem(instances.nountype.inst)"
   ]
  },
  {
   "cell_type": "markdown",
   "metadata": {},
   "source": [
    "Another source of bias is the possibility that the sampling of non-random categories is skewed towards the high-view pages, and it is possible that that bias weakens the suggestion that the previous findings are related to their hypothesis."
   ]
  },
  {
   "cell_type": "code",
   "execution_count": null,
   "metadata": {
    "collapsed": true
   },
   "outputs": [],
   "source": [
    "ms_problem.popularityOf()\n",
    "nountype_problem.popularityOf()\n",
    "clickbait_problem.popularityOf()\n",
    "hierarchical_problem.popularityOf()"
   ]
  },
  {
   "cell_type": "code",
   "execution_count": null,
   "metadata": {
    "collapsed": false
   },
   "outputs": [],
   "source": [
    "import instances.popularity\n",
    "popularity_q_problem = WikiProblem(instances.popularity.quantile_inst)\n",
    "popularity_even_problem =  WikiProblem(instances.popularity.even_inst)"
   ]
  },
  {
   "cell_type": "markdown",
   "metadata": {
    "collapsed": true
   },
   "source": [
    "Maybe the proportion of wikipedia traffic and the proportion of engines/links cluster together, because they are both 'within the wikipedia site'. Maybe that applies to the concept of stuff people research versus stuff people quickly search for and then leave."
   ]
  },
  {
   "cell_type": "code",
   "execution_count": null,
   "metadata": {
    "collapsed": false
   },
   "outputs": [],
   "source": [
    "# A Tool for finding the exact wikipedia names corresponding to phrases.\n",
    "candidate_phrases = ['tupac','David Foster Wallace', 'paternalism']\n",
    "for phrase in candidate_phrases:\n",
    "    most_like(phrase)"
   ]
  },
  {
   "cell_type": "code",
   "execution_count": 3,
   "metadata": {
    "collapsed": false
   },
   "outputs": [],
   "source": [
    "sns.violinplot??"
   ]
  },
  {
   "cell_type": "code",
   "execution_count": 2,
   "metadata": {
    "collapsed": true
   },
   "outputs": [],
   "source": [
    "import seaborn as sns"
   ]
  },
  {
   "cell_type": "code",
   "execution_count": null,
   "metadata": {
    "collapsed": true
   },
   "outputs": [],
   "source": []
  }
 ],
 "metadata": {
  "kernelspec": {
   "display_name": "Python 3",
   "language": "python",
   "name": "python3"
  },
  "language_info": {
   "codemirror_mode": {
    "name": "ipython",
    "version": 3
   },
   "file_extension": ".py",
   "mimetype": "text/x-python",
   "name": "python",
   "nbconvert_exporter": "python",
   "pygments_lexer": "ipython3",
   "version": "3.4.3"
  }
 },
 "nbformat": 4,
 "nbformat_minor": 0
}
